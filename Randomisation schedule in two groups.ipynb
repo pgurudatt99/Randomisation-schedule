{
 "cells": [
  {
   "cell_type": "code",
   "execution_count": 1,
   "id": "51d69eb1",
   "metadata": {},
   "outputs": [
    {
     "name": "stdout",
     "output_type": "stream",
     "text": [
      "Group 1: [206, 154, 7, 35, 6, 205, 28, 142, 209, 114, 109, 195, 236, 91, 122, 169, 56, 101, 235, 250, 69, 32, 117, 260, 140, 54, 67, 63, 203, 1, 103, 49, 61, 255, 119, 232, 220, 14, 86, 23, 265, 166, 118, 39, 221, 120, 261, 96, 21, 79, 167, 133, 27, 77, 227, 38, 215, 17, 99, 128, 74, 158, 160, 134, 207, 113, 212, 44, 234, 156, 115, 192, 247, 3, 148, 93, 251, 127, 12, 73, 20, 202, 198, 239, 197, 252, 173, 72, 11, 179, 40, 42, 188, 210, 238, 48, 159, 102, 241, 34, 123, 253, 147, 9, 47, 161, 149, 229, 138, 150, 146, 177, 41, 242, 193, 30, 246, 33, 89, 8, 84, 176, 144, 46, 100, 152, 178, 172, 189, 16, 25, 131, 257, 76, 244]\n",
      "Group 2: [116, 94, 204, 218, 168, 55, 112, 231, 60, 81, 18, 145, 187, 194, 139, 264, 58, 19, 68, 248, 182, 97, 219, 70, 106, 26, 29, 51, 214, 65, 151, 175, 165, 181, 37, 64, 45, 256, 110, 31, 225, 171, 243, 57, 208, 143, 90, 254, 50, 270, 153, 135, 163, 15, 125, 85, 185, 92, 211, 184, 226, 59, 95, 174, 222, 88, 52, 80, 108, 111, 141, 268, 157, 170, 200, 36, 104, 233, 43, 258, 191, 216, 180, 201, 124, 223, 78, 132, 98, 136, 183, 5, 162, 10, 266, 228, 196, 259, 53, 107, 2, 137, 269, 71, 82, 240, 263, 224, 267, 230, 190, 262, 105, 62, 164, 155, 245, 237, 217, 121, 13, 24, 199, 75, 126, 129, 83, 4, 249, 186, 87, 213, 66, 22, 130]\n"
     ]
    }
   ],
   "source": [
    "import random\n",
    "\n",
    "# Create a list of numbers from 1 to 270\n",
    "numbers = list(range(1, 271))\n",
    "\n",
    "# Randomly shuffle the list\n",
    "random.shuffle(numbers)\n",
    "\n",
    "# Split the shuffled list into two groups\n",
    "group1 = numbers[:135]  # First group contains the first 135 numbers\n",
    "group2 = numbers[135:]  # Second group contains the remaining 135 numbers\n",
    "\n",
    "# Print the two groups\n",
    "print(\"Group 1:\", group1)\n",
    "print(\"Group 2:\", group2)"
   ]
  },
  {
   "cell_type": "code",
   "execution_count": null,
   "id": "9f7ac08f",
   "metadata": {},
   "outputs": [],
   "source": []
  }
 ],
 "metadata": {
  "kernelspec": {
   "display_name": "Python 3 (ipykernel)",
   "language": "python",
   "name": "python3"
  },
  "language_info": {
   "codemirror_mode": {
    "name": "ipython",
    "version": 3
   },
   "file_extension": ".py",
   "mimetype": "text/x-python",
   "name": "python",
   "nbconvert_exporter": "python",
   "pygments_lexer": "ipython3",
   "version": "3.9.13"
  }
 },
 "nbformat": 4,
 "nbformat_minor": 5
}
